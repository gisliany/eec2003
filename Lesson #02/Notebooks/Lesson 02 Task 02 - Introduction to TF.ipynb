{
 "cells": [
  {
   "cell_type": "markdown",
   "metadata": {
    "id": "57knM8jrYZ2t"
   },
   "source": [
    "# Part 01: Intro to TensorFlow\n"
   ]
  },
  {
   "cell_type": "markdown",
   "metadata": {
    "id": "XO7nyYJXu4jQ"
   },
   "source": [
    "\n",
    "In this practice assignment, you'll get exposure to using TensorFlow and learn how it can be used for solving deep learning tasks. Go through the code and run each cell. Along the way, you'll encounter several ***TODO*** blocks -- follow the instructions to fill them out before running those cells and continuing.\n",
    "\n"
   ]
  },
  {
   "cell_type": "markdown",
   "metadata": {
    "id": "7y4Rv9KbYtgE"
   },
   "source": [
    "\n",
    "## 1.1 Intro to TensorFlow\n"
   ]
  },
  {
   "cell_type": "markdown",
   "metadata": {
    "id": "h6xMgpWoYzFM"
   },
   "source": [
    "\n",
    "TensorFlow is a software library extensively used in machine learning. Here we'll learn how computations are represented and how to define a simple neural network in TensorFlow. We'll be using the latest version of TensorFlow, TensorFlow 2, which affords great flexibility and the ability to imperatively execute operations, just like in Python. You'll notice that TensorFlow 2 is quite similar to Python in its syntax and imperative execution. Let's install TensorFlow and a couple of dependencies.\n"
   ]
  },
  {
   "cell_type": "code",
   "execution_count": 1,
   "metadata": {
    "id": "LkaimNJfYZ2w"
   },
   "outputs": [],
   "source": [
    "import tensorflow as tf\n",
    "\n",
    "import numpy as np\n",
    "import matplotlib.pyplot as plt"
   ]
  },
  {
   "cell_type": "code",
   "execution_count": 2,
   "metadata": {
    "colab": {
     "base_uri": "https://localhost:8080/",
     "height": 35
    },
    "executionInfo": {
     "elapsed": 686,
     "status": "ok",
     "timestamp": 1613059478976,
     "user": {
      "displayName": "Ivanovitch Silva",
      "photoUrl": "https://lh3.googleusercontent.com/a-/AOh14Git9r91cROvzBPiAlvwQtPMEFxLz44uDidMPM-PrQ=s64",
      "userId": "06428777505436195303"
     },
     "user_tz": 180
    },
    "id": "kY_EIMvvzNhh",
    "outputId": "7b121fa6-776c-4aa4-ee35-cae8613a3dda"
   },
   "outputs": [
    {
     "data": {
      "text/plain": [
       "'2.4.1'"
      ]
     },
     "execution_count": 2,
     "metadata": {},
     "output_type": "execute_result"
    }
   ],
   "source": [
    "tf.__version__"
   ]
  },
  {
   "cell_type": "markdown",
   "metadata": {
    "id": "2QNMcdP4m3Vs"
   },
   "source": [
    "## 1.2 Why is TensorFlow called TensorFlow?\n"
   ]
  },
  {
   "cell_type": "markdown",
   "metadata": {
    "id": "fg_YKrOXZDM0"
   },
   "source": [
    "\n",
    "TensorFlow is called 'TensorFlow' because it handles the flow (node/mathematical operation) of Tensors, which are data structures that you can think of as multi-dimensional arrays. Tensors are represented as n-dimensional arrays of base dataypes such as a string or integer -- they provide a way to generalize vectors and matrices to higher dimensions.\n",
    "\n",
    "The ```shape``` of a Tensor defines its number of dimensions and the size of each dimension. The ```rank``` of a Tensor provides the number of dimensions (n-dimensions) -- you can also think of this as the Tensor's order or degree.\n",
    "\n",
    "Let's first look at 0-d Tensors, of which a scalar is an example:"
   ]
  },
  {
   "cell_type": "code",
   "execution_count": 3,
   "metadata": {
    "colab": {
     "base_uri": "https://localhost:8080/"
    },
    "executionInfo": {
     "elapsed": 6063,
     "status": "ok",
     "timestamp": 1613059492559,
     "user": {
      "displayName": "Ivanovitch Silva",
      "photoUrl": "https://lh3.googleusercontent.com/a-/AOh14Git9r91cROvzBPiAlvwQtPMEFxLz44uDidMPM-PrQ=s64",
      "userId": "06428777505436195303"
     },
     "user_tz": 180
    },
    "id": "tFxztZQInlAB",
    "outputId": "ed815e7b-e690-498b-c6ed-c665826f79f6"
   },
   "outputs": [
    {
     "name": "stdout",
     "output_type": "stream",
     "text": [
      "`place` is a 0-d Tensor\n",
      "`number` is a 0-d Tensor\n"
     ]
    }
   ],
   "source": [
    "place = tf.constant(\"PPgEEC\", tf.string)\n",
    "number = tf.constant(1.41421356237, tf.float64)\n",
    "\n",
    "print(\"`place` is a {}-d Tensor\".format(tf.rank(place).numpy()))\n",
    "print(\"`number` is a {}-d Tensor\".format(tf.rank(number).numpy()))"
   ]
  },
  {
   "cell_type": "markdown",
   "metadata": {
    "id": "-dljcPUcoJZ6"
   },
   "source": [
    "Vectors and lists can be used to create 1-d Tensors:"
   ]
  },
  {
   "cell_type": "code",
   "execution_count": 4,
   "metadata": {
    "colab": {
     "base_uri": "https://localhost:8080/"
    },
    "executionInfo": {
     "elapsed": 917,
     "status": "ok",
     "timestamp": 1613059506852,
     "user": {
      "displayName": "Ivanovitch Silva",
      "photoUrl": "https://lh3.googleusercontent.com/a-/AOh14Git9r91cROvzBPiAlvwQtPMEFxLz44uDidMPM-PrQ=s64",
      "userId": "06428777505436195303"
     },
     "user_tz": 180
    },
    "id": "oaHXABe8oPcO",
    "outputId": "af29f15a-db67-4f4f-cefd-b75256e25b04"
   },
   "outputs": [
    {
     "name": "stdout",
     "output_type": "stream",
     "text": [
      "`places` is a 1-d Tensor with shape: [2]\n",
      "`numbers` is a 1-d Tensor with shape: [3]\n"
     ]
    }
   ],
   "source": [
    "places = tf.constant([\"PPgEEC\", \"UFRN\"], tf.string)\n",
    "numbers = tf.constant([3.141592, 1.414213, 2.71821], tf.float64)\n",
    "\n",
    "print(\"`places` is a {}-d Tensor with shape: {}\".format(tf.rank(places).numpy(), tf.shape(places)))\n",
    "print(\"`numbers` is a {}-d Tensor with shape: {}\".format(tf.rank(numbers).numpy(), tf.shape(numbers)))"
   ]
  },
  {
   "cell_type": "markdown",
   "metadata": {
    "id": "gvffwkvtodLP"
   },
   "source": [
    "Next we consider creating 2-d (i.e., matrices) and higher-rank Tensors. For examples, in latter practice involving image processing and computer vision, we will use 4-d Tensors. Here the dimensions correspond to the number of example images in our batch, image height, image width, and the number of color channels."
   ]
  },
  {
   "cell_type": "code",
   "execution_count": 5,
   "metadata": {
    "id": "tFeBBe1IouS3"
   },
   "outputs": [],
   "source": [
    "### Defining higher-order Tensors ###\n",
    "\n",
    "'''TODO: Define a 2-d Tensor using tf.constant'''\n",
    "matrix = tf.constant([[0, 1, 2],\n",
    "                      [2, 1, 0]], tf.int32)\n",
    "\n",
    "assert isinstance(matrix, tf.Tensor), \"matrix must be a tf Tensor object\"\n",
    "assert tf.rank(matrix).numpy() == 2"
   ]
  },
  {
   "cell_type": "code",
   "execution_count": 6,
   "metadata": {
    "id": "Zv1fTn_Ya_cz"
   },
   "outputs": [],
   "source": [
    "'''TODO: Define a 4-d Tensor.'''\n",
    "# Use tf.zeros to initialize a 4-d Tensor of zeros with size 10 x 256 x 256 x 3. \n",
    "#   You can think of this as 10 images where each image is RGB 256 x 256.\n",
    "\n",
    "images = tf.zeros(shape=(10, 256, 256, 3))\n",
    "\n",
    "assert isinstance(images, tf.Tensor), \"images must be a tf Tensor object\"\n",
    "assert tf.rank(images).numpy() == 4, \"images must be of rank 4\"\n",
    "assert tf.shape(images).numpy().tolist() == [10, 256, 256, 3], \"matrix is incorrect shape\""
   ]
  },
  {
   "cell_type": "markdown",
   "metadata": {
    "id": "wkaCDOGapMyl"
   },
   "source": [
    "As you have seen, the ```shape``` of a Tensor provides the number of elements in each Tensor dimension. The ```shape``` is quite useful, and we'll use it often. You can also use slicing to access subtensors within a higher-rank Tensor:"
   ]
  },
  {
   "cell_type": "code",
   "execution_count": 7,
   "metadata": {
    "id": "FhaufyObuLEG"
   },
   "outputs": [
    {
     "name": "stdout",
     "output_type": "stream",
     "text": [
      "`row_vector`: [2 1 0]\n",
      "`column_vector`: [2 0]\n",
      "`scalar`: 0\n"
     ]
    }
   ],
   "source": [
    "row_vector = matrix[1]\n",
    "column_vector = matrix[:,2]\n",
    "scalar = matrix[1, 2]\n",
    "\n",
    "print(\"`row_vector`: {}\".format(row_vector.numpy()))\n",
    "print(\"`column_vector`: {}\".format(column_vector.numpy()))\n",
    "print(\"`scalar`: {}\".format(scalar.numpy()))"
   ]
  },
  {
   "cell_type": "markdown",
   "metadata": {
    "id": "iD3VO-LZYZ2z"
   },
   "source": [
    "## 1.3 Computations on Tensors\n"
   ]
  },
  {
   "cell_type": "markdown",
   "metadata": {
    "id": "SC3ULUQjbYtP"
   },
   "source": [
    "\n",
    "A convenient way to think about and visualize computations in TensorFlow is in terms of graphs. We can define this graph in terms of Tensors, which hold data, and the mathematical operations that act on these Tensors in some order. Let's look at a simple example, and define this computation using TensorFlow:\n",
    "\n",
    "\n",
    "<center><img width=\"600\" src=\"https://drive.google.com/uc?export=view&id=1fOnxmc49llQqf7jadUwBSPUujWld2Cnf\"></center>\n",
    "\n"
   ]
  },
  {
   "cell_type": "code",
   "execution_count": 8,
   "metadata": {
    "colab": {
     "base_uri": "https://localhost:8080/"
    },
    "executionInfo": {
     "elapsed": 693,
     "status": "ok",
     "timestamp": 1613059696395,
     "user": {
      "displayName": "Ivanovitch Silva",
      "photoUrl": "https://lh3.googleusercontent.com/a-/AOh14Git9r91cROvzBPiAlvwQtPMEFxLz44uDidMPM-PrQ=s64",
      "userId": "06428777505436195303"
     },
     "user_tz": 180
    },
    "id": "X_YJrZsxYZ2z",
    "outputId": "9e66c21f-764d-468e-958b-a733a1e79d0b"
   },
   "outputs": [
    {
     "name": "stdout",
     "output_type": "stream",
     "text": [
      "tf.Tensor(76, shape=(), dtype=int32)\n",
      "tf.Tensor(76, shape=(), dtype=int32)\n"
     ]
    }
   ],
   "source": [
    "# Create the nodes in the graph, and initialize values\n",
    "a = tf.constant(15)\n",
    "b = tf.constant(61)\n",
    "\n",
    "# Add them!\n",
    "c1 = tf.add(a,b)\n",
    "c2 = a + b # TensorFlow overrides the \"+\" operation so that it is able to act on Tensors\n",
    "print(c1)\n",
    "print(c2)"
   ]
  },
  {
   "cell_type": "markdown",
   "metadata": {
    "id": "Mbfv_QOiYZ23"
   },
   "source": [
    "Notice how we've created a computation graph consisting of TensorFlow operations, and how  the output is a Tensor with value 76 -- we've just created a computation graph consisting of operations, and it's executed them and given us back the result.\n",
    "\n",
    "Now let's consider a slightly more complicated example:\n",
    "\n",
    "\n",
    "<center><img width=\"500\" src=\"https://drive.google.com/uc?export=view&id=1IB2tVNOee1VmDjgqzSXiwXb1Ap03-6rl\"></center>\n",
    "\n",
    "Here, we take two inputs, `a, b`, and compute an output `e`. Each node in the graph represents an operation that takes some input, does some computation, and passes its output to another node.\n",
    "\n",
    "Let's define a simple function in TensorFlow to construct this computation function:"
   ]
  },
  {
   "cell_type": "code",
   "execution_count": 9,
   "metadata": {
    "id": "PJnfzpWyYZ23",
    "scrolled": true
   },
   "outputs": [],
   "source": [
    "### Defining Tensor computations ###\n",
    "\n",
    "# Construct a simple computation function\n",
    "def func(a,b):\n",
    "  '''TODO: Define the operation for c, d, e (use tf.add, tf.subtract, tf.multiply).'''\n",
    "  c = tf.add(a, b)\n",
    "  d = tf.subtract(b, 1)\n",
    "  e = tf.multiply(c, d)\n",
    "  return e"
   ]
  },
  {
   "cell_type": "markdown",
   "metadata": {
    "id": "AwrRfDMS2-oy"
   },
   "source": [
    "Now, we can call this function to execute the computation graph given some inputs `a,b`:"
   ]
  },
  {
   "cell_type": "code",
   "execution_count": 10,
   "metadata": {
    "id": "pnwsf8w2uF7p"
   },
   "outputs": [
    {
     "name": "stdout",
     "output_type": "stream",
     "text": [
      "tf.Tensor(6.0, shape=(), dtype=float32)\n"
     ]
    }
   ],
   "source": [
    "# Consider example values for a,b\n",
    "a, b = 1.5, 2.5\n",
    "# Execute the computation\n",
    "e_out = func(a,b)\n",
    "print(e_out)"
   ]
  },
  {
   "cell_type": "markdown",
   "metadata": {
    "id": "6HqgUIUhYZ29"
   },
   "source": [
    "Notice how our output is a Tensor with value defined by the output of the computation, and that the output has no shape as it is a single scalar value."
   ]
  },
  {
   "cell_type": "markdown",
   "metadata": {
    "id": "1h4o9Bb0YZ29"
   },
   "source": [
    "## 1.4 Neural networks in TensorFlow\n"
   ]
  },
  {
   "cell_type": "markdown",
   "metadata": {
    "id": "J6CoT4TGcD_s"
   },
   "source": [
    "\n",
    "We can also define neural networks in TensorFlow. TensorFlow uses a high-level API called [Keras](https://www.tensorflow.org/guide/keras) that provides a powerful, intuitive framework for building and training deep learning models.\n",
    "\n",
    "Let's first consider the example of a simple perceptron defined by just one dense layer: $ y = \\sigma(Wx + b)$, where $W$ represents a matrix of weights, $b$ is a bias, $x$ is the input, $\\sigma$ is the sigmoid activation function, and $y$ is the output. We can also visualize this operation using a graph: \n",
    "\n",
    "<center><img width=\"800\" src=\"https://drive.google.com/uc?export=view&id=15MDfSLLdfXt656lQr15QDQyTK6hjhVk1\"></center>\n",
    "\n",
    "\n",
    "Tensors can flow through abstract types called [```Layers```](https://www.tensorflow.org/api_docs/python/tf/keras/layers/Layer) -- the building blocks of neural networks. ```Layers``` implement common neural networks operations, and are used to update weights, compute losses, and define inter-layer connectivity. We will first define a ```Layer``` to implement the simple perceptron defined above."
   ]
  },
  {
   "cell_type": "code",
   "execution_count": 11,
   "metadata": {
    "colab": {
     "base_uri": "https://localhost:8080/",
     "height": 35
    },
    "executionInfo": {
     "elapsed": 647,
     "status": "ok",
     "timestamp": 1596986902444,
     "user": {
      "displayName": "Ivanovitch Silva",
      "photoUrl": "https://lh3.googleusercontent.com/a-/AOh14Git9r91cROvzBPiAlvwQtPMEFxLz44uDidMPM-PrQ=s64",
      "userId": "06428777505436195303"
     },
     "user_tz": 180
    },
    "id": "HutbJk-1kHPh",
    "outputId": "b77ec823-9972-4cb1-fdef-bd2492b271ec"
   },
   "outputs": [
    {
     "name": "stdout",
     "output_type": "stream",
     "text": [
      "[[0.47525924 0.5040134  0.4925321 ]]\n"
     ]
    }
   ],
   "source": [
    "### Defining a network Layer ###\n",
    "\n",
    "# units: number of hidden units (number of neurons)\n",
    "# input_shape: shape of the input\n",
    "# x: input to the layer\n",
    "\n",
    "class OurDenseLayer(tf.keras.layers.Layer):\n",
    "  def __init__(self, units=32):\n",
    "    super(OurDenseLayer, self).__init__()\n",
    "    self.units = units\n",
    "\n",
    "  def build(self, input_shape):\n",
    "    d = int(input_shape[-1])\n",
    "    # Define and initialize parameters: a weight matrix W and bias b\n",
    "    # Note that parameter initialization is random!\n",
    "    self.W = self.add_weight(\"weight\", \n",
    "                             shape=[d,self.units],  # note the dimensionality\n",
    "                             initializer='random_normal')\n",
    "    self.b = self.add_weight(\"bias\",\n",
    "                             shape=[1,self.units], # note the dimensionality\n",
    "                             initializer='zeros') \n",
    "\n",
    "  def call(self, x):\n",
    "    '''TODO: define the operation for z (hint: use tf.matmul)'''\n",
    "    z = tf.matmul(x, self.W) + self.b\n",
    "\n",
    "    '''TODO: define the operation for out (hint: use tf.sigmoid)'''\n",
    "    y = tf.sigmoid(z)\n",
    "    return y\n",
    "\n",
    "# Since layer parameters are initialized randomly, we will set a random seed for reproducibility\n",
    "tf.random.set_seed(1)\n",
    "\n",
    "# The layer has three hidden units or three neurons\n",
    "layer = OurDenseLayer(3)\n",
    "\n",
    "# One instance with two features\n",
    "x_input = tf.ones((1,2))\n",
    "\n",
    "# 'build' >> 'call' \n",
    "y = layer(x_input)\n",
    "\n",
    "# test the output!\n",
    "print(y.numpy())"
   ]
  },
  {
   "cell_type": "code",
   "execution_count": 12,
   "metadata": {
    "colab": {
     "base_uri": "https://localhost:8080/",
     "height": 90
    },
    "executionInfo": {
     "elapsed": 640,
     "status": "ok",
     "timestamp": 1596986912593,
     "user": {
      "displayName": "Ivanovitch Silva",
      "photoUrl": "https://lh3.googleusercontent.com/a-/AOh14Git9r91cROvzBPiAlvwQtPMEFxLz44uDidMPM-PrQ=s64",
      "userId": "06428777505436195303"
     },
     "user_tz": 180
    },
    "id": "3BuYBa2IlBAc",
    "outputId": "4fe4bf15-3c5d-414e-d7bc-ede69acdd644"
   },
   "outputs": [
    {
     "data": {
      "text/plain": [
       "[<tf.Variable 'our_dense_layer/weight:0' shape=(2, 3) dtype=float32, numpy=\n",
       " array([[-0.05506101,  0.07728758,  0.0191822 ],\n",
       "        [-0.04398289, -0.06123361, -0.04905606]], dtype=float32)>,\n",
       " <tf.Variable 'our_dense_layer/bias:0' shape=(1, 3) dtype=float32, numpy=array([[0., 0., 0.]], dtype=float32)>]"
      ]
     },
     "execution_count": 12,
     "metadata": {},
     "output_type": "execute_result"
    }
   ],
   "source": [
    "layer.weights"
   ]
  },
  {
   "cell_type": "code",
   "execution_count": 13,
   "metadata": {
    "colab": {
     "base_uri": "https://localhost:8080/",
     "height": 35
    },
    "executionInfo": {
     "elapsed": 718,
     "status": "ok",
     "timestamp": 1596986920170,
     "user": {
      "displayName": "Ivanovitch Silva",
      "photoUrl": "https://lh3.googleusercontent.com/a-/AOh14Git9r91cROvzBPiAlvwQtPMEFxLz44uDidMPM-PrQ=s64",
      "userId": "06428777505436195303"
     },
     "user_tz": 180
    },
    "id": "KK6Rgcw_uGKC",
    "outputId": "6ecc35d2-c9b4-434b-feb3-ba9089ba96eb"
   },
   "outputs": [
    {
     "data": {
      "text/plain": [
       "<tf.Tensor: shape=(1, 2), dtype=float32, numpy=array([[1., 1.]], dtype=float32)>"
      ]
     },
     "execution_count": 13,
     "metadata": {},
     "output_type": "execute_result"
    }
   ],
   "source": [
    "x_input"
   ]
  },
  {
   "cell_type": "code",
   "execution_count": 14,
   "metadata": {
    "colab": {
     "base_uri": "https://localhost:8080/",
     "height": 35
    },
    "executionInfo": {
     "elapsed": 701,
     "status": "ok",
     "timestamp": 1596986942657,
     "user": {
      "displayName": "Ivanovitch Silva",
      "photoUrl": "https://lh3.googleusercontent.com/a-/AOh14Git9r91cROvzBPiAlvwQtPMEFxLz44uDidMPM-PrQ=s64",
      "userId": "06428777505436195303"
     },
     "user_tz": 180
    },
    "id": "GR_5p9H3uMjE",
    "outputId": "52781348-21f1-4a67-adb3-a15d7b3ae4c3"
   },
   "outputs": [
    {
     "data": {
      "text/plain": [
       "<tf.Tensor: shape=(1, 3), dtype=float32, numpy=array([[0.47525924, 0.5040134 , 0.4925321 ]], dtype=float32)>"
      ]
     },
     "execution_count": 14,
     "metadata": {},
     "output_type": "execute_result"
    }
   ],
   "source": [
    "tf.sigmoid(tf.matmul(x_input,layer.weights[0]))"
   ]
  },
  {
   "cell_type": "markdown",
   "metadata": {
    "id": "rgdMBxovgfE0"
   },
   "source": [
    "**Expected Output**\n",
    "```python\n",
    "[[0.47525924 0.5040134  0.4925321 ]]\n",
    "```\n"
   ]
  },
  {
   "cell_type": "markdown",
   "metadata": {
    "id": "Jt1FgM7qYZ3D"
   },
   "source": [
    "Conveniently, TensorFlow has defined a number of ```Layers``` that are commonly used in neural networks, for example a [```Dense```](https://www.tensorflow.org/api_docs/python/tf/keras/layers/Dense?version=stable). Now, instead of using a single ```Layer``` to define our simple neural network, we'll use the  [`Sequential`](https://www.tensorflow.org/versions/r2.0/api_docs/python/tf/keras/Sequential) model from Keras and a single [`Dense` ](https://www.tensorflow.org/versions/r2.0/api_docs/python/tf/keras/layers/Dense) layer to define our network. With the `Sequential` API, you can readily create neural networks by stacking together layers like building blocks. "
   ]
  },
  {
   "cell_type": "code",
   "execution_count": 15,
   "metadata": {
    "id": "7WXTpmoL6TDz"
   },
   "outputs": [],
   "source": [
    "### Defining a neural network using the Sequential API ###\n",
    "\n",
    "# Import relevant packages\n",
    "from tensorflow.keras import Sequential\n",
    "from tensorflow.keras.layers import Dense\n",
    "\n",
    "tf.random.set_seed(1)\n",
    "\n",
    "# Define the number of units\n",
    "units = 3\n",
    "\n",
    "# First define the model \n",
    "model = Sequential()\n",
    "\n",
    "'''TODO: Define a dense (fully connected) layer to compute z'''\n",
    "# Remember: In this exercise provide only the number of units, activation function as sigmoid\n",
    "# You can read more about the initialization of W and b in the TF documentation :) \n",
    "# https://www.tensorflow.org/api_docs/python/tf/keras/layers/Dense?version=stable\n",
    "\n",
    "dense_layer = Dense(units, \n",
    "                    activation='sigmoid',\n",
    "                    kernel_initializer=tf.constant_initializer(layer.weights[0].numpy())) # TODO\n",
    "\n",
    "\n",
    "# Add the dense layer to the model\n",
    "model.add(dense_layer)"
   ]
  },
  {
   "cell_type": "markdown",
   "metadata": {
    "id": "HDGcwYfUyR-U"
   },
   "source": [
    "That's it! We've defined our model using the Sequential API. Now, we can test it out using an example input:"
   ]
  },
  {
   "cell_type": "code",
   "execution_count": 16,
   "metadata": {
    "colab": {
     "base_uri": "https://localhost:8080/",
     "height": 35
    },
    "executionInfo": {
     "elapsed": 665,
     "status": "ok",
     "timestamp": 1596987270711,
     "user": {
      "displayName": "Ivanovitch Silva",
      "photoUrl": "https://lh3.googleusercontent.com/a-/AOh14Git9r91cROvzBPiAlvwQtPMEFxLz44uDidMPM-PrQ=s64",
      "userId": "06428777505436195303"
     },
     "user_tz": 180
    },
    "id": "sg23OczByRDb",
    "outputId": "61e30ce5-8fa0-4115-e455-a56c599494f6"
   },
   "outputs": [
    {
     "name": "stdout",
     "output_type": "stream",
     "text": [
      "[[0.47525924 0.5040134  0.4925321 ]]\n"
     ]
    }
   ],
   "source": [
    "# Test model with example input\n",
    "x_input_ = tf.ones((1,2))\n",
    "\n",
    "'''TODO: feed input into the model and predict the output!'''\n",
    "model_output = model.predict(x_input_)\n",
    "print(model_output)"
   ]
  },
  {
   "cell_type": "markdown",
   "metadata": {
    "id": "596NvsOOtr9F"
   },
   "source": [
    "In addition to defining models using the `Sequential` API, we can also define neural networks by directly subclassing the [`Model`](https://https://www.tensorflow.org/api_docs/python/tf/keras/Model?version=stable) class, which groups layers together to enable model training and inference. The `Model` class captures what we refer to as a \"model\" or as a \"network\". Using Subclassing, we can create a class for our model, and then define the forward pass through the network using the `call` function. Subclassing affords the flexibility to define custom layers, custom training loops, custom activation functions, and custom models. Let's define the same neural network as above now using Subclassing rather than the `Sequential` model."
   ]
  },
  {
   "cell_type": "code",
   "execution_count": 17,
   "metadata": {
    "id": "K4aCflPVyViD"
   },
   "outputs": [],
   "source": [
    "### Defining a model using subclassing ###\n",
    "\n",
    "from tensorflow.keras import Model\n",
    "from tensorflow.keras.layers import Dense\n",
    "\n",
    "class SubclassModel(tf.keras.Model):\n",
    "\n",
    "  # In __init__, we define the Model's layers\n",
    "  def __init__(self, units):\n",
    "    super(SubclassModel, self).__init__()\n",
    "    '''TODO: Our model consists of a single Dense layer. Define this layer.''' \n",
    "    \n",
    "    self.dense_layer = Dense(units, \n",
    "                             activation='sigmoid',\n",
    "                             kernel_initializer=tf.constant_initializer(layer.weights[0].numpy())) # TODO\n",
    "\n",
    "  # In the call function, we define the Model's forward pass.\n",
    "  def call(self, inputs):\n",
    "    return self.dense_layer(inputs)"
   ]
  },
  {
   "cell_type": "markdown",
   "metadata": {
    "id": "U0-lwHDk4irB"
   },
   "source": [
    "Just like the model we built using the `Sequential` API, let's test out our `SubclassModel` using an example input.\n",
    "\n"
   ]
  },
  {
   "cell_type": "code",
   "execution_count": 18,
   "metadata": {
    "colab": {
     "base_uri": "https://localhost:8080/",
     "height": 35
    },
    "executionInfo": {
     "elapsed": 686,
     "status": "ok",
     "timestamp": 1596987419708,
     "user": {
      "displayName": "Ivanovitch Silva",
      "photoUrl": "https://lh3.googleusercontent.com/a-/AOh14Git9r91cROvzBPiAlvwQtPMEFxLz44uDidMPM-PrQ=s64",
      "userId": "06428777505436195303"
     },
     "user_tz": 180
    },
    "id": "LhB34RA-4gXb",
    "outputId": "38d7d5b1-fdd9-410d-e8d4-15c7c4029eb7"
   },
   "outputs": [
    {
     "name": "stdout",
     "output_type": "stream",
     "text": [
      "tf.Tensor([[0.47525924 0.5040134  0.4925321 ]], shape=(1, 3), dtype=float32)\n"
     ]
    }
   ],
   "source": [
    "tf.random.set_seed(1)\n",
    "\n",
    "units = 3\n",
    "model = SubclassModel(units)\n",
    "\n",
    "x_input_ = tf.ones((1,2))\n",
    "\n",
    "print(model(x_input_))"
   ]
  },
  {
   "cell_type": "markdown",
   "metadata": {
    "id": "HTIFMJLAzsyE"
   },
   "source": [
    "Importantly, Subclassing affords us a lot of flexibility to define custom models. For example, we can use boolean arguments in the `call` function to specify different network behaviors, for example different behaviors during training and inference. Let's suppose under some instances we want our network to simply output the input, without any perturbation. We define a boolean argument `isidentity` to control this behavior:"
   ]
  },
  {
   "cell_type": "code",
   "execution_count": 19,
   "metadata": {
    "id": "P7jzGX5D1xT5"
   },
   "outputs": [],
   "source": [
    "### Defining a model using subclassing and specifying custom behavior ###\n",
    "\n",
    "from tensorflow.keras import Model\n",
    "from tensorflow.keras.layers import Dense\n",
    "\n",
    "tf.random.set_seed(1)\n",
    "\n",
    "class IdentityModel(tf.keras.Model):\n",
    "\n",
    "  # As before, in __init__ we define the Model's layers\n",
    "  # Since our desired behavior involves the forward pass, this part is unchanged\n",
    "  def __init__(self, units):\n",
    "    super(IdentityModel, self).__init__()\n",
    "    self.dense_layer = Dense(units, \n",
    "                             activation='sigmoid',\n",
    "                             kernel_initializer='random_uniform') # TODO\n",
    "\n",
    "  '''TODO: Implement the behavior where the network outputs the input, unchanged, under control of the isidentity argument.'''\n",
    "  def call(self, inputs, isidentity=False):\n",
    "    x = self.dense_layer(inputs)\n",
    "    if isidentity: \n",
    "      return inputs\n",
    "    return x\n",
    "  "
   ]
  },
  {
   "cell_type": "markdown",
   "metadata": {
    "id": "Ku4rcCGx5T3y"
   },
   "source": [
    "Let's test this behavior:"
   ]
  },
  {
   "cell_type": "code",
   "execution_count": 20,
   "metadata": {
    "colab": {
     "base_uri": "https://localhost:8080/",
     "height": 35
    },
    "executionInfo": {
     "elapsed": 700,
     "status": "ok",
     "timestamp": 1596989780899,
     "user": {
      "displayName": "Ivanovitch Silva",
      "photoUrl": "https://lh3.googleusercontent.com/a-/AOh14Git9r91cROvzBPiAlvwQtPMEFxLz44uDidMPM-PrQ=s64",
      "userId": "06428777505436195303"
     },
     "user_tz": 180
    },
    "id": "NzC0mgbk5dp2",
    "outputId": "f3744fdc-b7c8-44ce-f1f3-df132e9f32c1"
   },
   "outputs": [
    {
     "name": "stdout",
     "output_type": "stream",
     "text": [
      "Network output with activation: [[0.48999327 0.50483537 0.5068365 ]]; network identity output: [[1. 1.]]\n"
     ]
    }
   ],
   "source": [
    "units = 3\n",
    "model = IdentityModel(units)\n",
    "\n",
    "x_input_ = tf.ones((1,2))\n",
    "\n",
    "'''TODO: pass the input into the model and call with and without the input identity option.'''\n",
    "out_activate = model(x_input_)\n",
    "out_identity = model(x_input_, True)\n",
    "\n",
    "print(\"Network output with activation: {}; network identity output: {}\".format(out_activate.numpy(), out_identity.numpy()))"
   ]
  },
  {
   "cell_type": "markdown",
   "metadata": {
    "id": "7V1dEqdk6VI5"
   },
   "source": [
    "Now that we have learned how to define `Layers` as well as neural networks in TensorFlow using both the `Sequential` and Subclassing APIs, we're ready to turn our attention to how to actually implement network training with backpropagation."
   ]
  },
  {
   "cell_type": "markdown",
   "metadata": {
    "id": "dQwDhKn8kbO2"
   },
   "source": [
    "## 1.5 Automatic differentiation in TensorFlow\n",
    "\n",
    "[Automatic differentiation](https://en.wikipedia.org/wiki/Automatic_differentiation)\n",
    "is one of the most important parts of TensorFlow and is the backbone of training with \n",
    "[backpropagation](https://en.wikipedia.org/wiki/Backpropagation). We will use the TensorFlow GradientTape [`tf.GradientTape`](https://www.tensorflow.org/api_docs/python/tf/GradientTape?version=stable) to trace operations for computing gradients later. \n",
    "\n",
    "When a forward pass is made through the network, all forward-pass operations get recorded to a \"tape\"; then, to compute the gradient, the tape is played backwards. By default, the tape is discarded after it is played backwards; this means that a particular `tf.GradientTape` can only\n",
    "compute one gradient, and subsequent calls throw a runtime error. However, we can compute multiple gradients over the same computation by creating a ```persistent``` gradient tape. \n",
    "\n",
    "First, we will look at how we can compute gradients using GradientTape and access them for computation. We define the simple function $ y = x^2$ and compute the gradient:"
   ]
  },
  {
   "cell_type": "code",
   "execution_count": 21,
   "metadata": {
    "id": "tdkqk8pw5yJM"
   },
   "outputs": [],
   "source": [
    "### Gradient computation with GradientTape ###\n",
    "\n",
    "# y = x^2\n",
    "# Example: x = 3.0\n",
    "x = tf.Variable(3.0)\n",
    "\n",
    "# Initiate the gradient tape\n",
    "with tf.GradientTape() as tape:\n",
    "  # Define the function\n",
    "  y = x * x\n",
    "# Access the gradient -- derivative of y with respect to x\n",
    "dy_dx = tape.gradient(y, x)\n",
    "\n",
    "assert dy_dx.numpy() == 6.0"
   ]
  },
  {
   "cell_type": "markdown",
   "metadata": {
    "id": "JhU5metS5xF3"
   },
   "source": [
    "In training neural networks, we use differentiation and stochastic gradient descent (SGD) to optimize a loss function. Now that we have a sense of how `GradientTape` can be used to compute and access derivatives, we will look at an example where we use automatic differentiation and SGD to find the minimum of $L=(x-x_f)^2$. Here $x_f$ is a variable for a desired value we are trying to optimize for; $L$ represents a loss that we are trying to  minimize. While we can clearly solve this problem analytically ($x_{min}=x_f$), considering how we can compute this using `GradientTape` sets us up nicely for future labs where we use gradient descent to optimize entire neural network losses."
   ]
  },
  {
   "cell_type": "code",
   "execution_count": 22,
   "metadata": {
    "attributes": {
     "classes": [
      "py"
     ],
     "id": ""
    },
    "id": "7g1yWiSXqEf-"
   },
   "outputs": [
    {
     "name": "stdout",
     "output_type": "stream",
     "text": [
      "Initializing x=[[0.40308788]]\n"
     ]
    },
    {
     "data": {
      "text/plain": [
       "Text(0, 0.5, 'x value')"
      ]
     },
     "execution_count": 22,
     "metadata": {},
     "output_type": "execute_result"
    },
    {
     "data": {
      "image/png": "[encoded data removed]",
      "text/plain": [
       "<Figure size 432x288 with 1 Axes>"
      ]
     },
     "metadata": {
      "needs_background": "light"
     },
     "output_type": "display_data"
    }
   ],
   "source": [
    "### Function minimization with automatic differentiation and SGD ###\n",
    "\n",
    "# Initialize a random value for our initial x\n",
    "x = tf.Variable([tf.random.normal([1])])\n",
    "print(\"Initializing x={}\".format(x.numpy()))\n",
    "\n",
    "learning_rate = 1e-2 # learning rate for SGD\n",
    "history = []\n",
    "# Define the target value\n",
    "x_f = 4\n",
    "\n",
    "# We will run SGD for a number of iterations. At each iteration, we compute the loss, \n",
    "#   compute the derivative of the loss with respect to x, and perform the SGD update.\n",
    "for i in range(500):\n",
    "  with tf.GradientTape() as tape:\n",
    "    '''TODO: define the loss as described above'''\n",
    "    loss = tf.square(x - x_f)\n",
    "\n",
    "  # loss minimization using gradient tape\n",
    "  grad = tape.gradient(loss, x) # compute the derivative of the loss with respect to x\n",
    "  new_x = x - learning_rate*grad # sgd update\n",
    "  x.assign(new_x) # update the value of x\n",
    "  history.append(x.numpy()[0])\n",
    "\n",
    "# Plot the evolution of x as we optimize towards x_f!\n",
    "plt.plot(history)\n",
    "plt.plot([0, 500],[x_f,x_f])\n",
    "plt.legend(('Predicted', 'True'))\n",
    "plt.xlabel('Iteration')\n",
    "plt.ylabel('x value')"
   ]
  },
  {
   "cell_type": "markdown",
   "metadata": {
    "id": "pC7czCwk3ceH"
   },
   "source": [
    "`GradientTape` provides an extremely flexible framework for automatic differentiation. In order to back propagate errors through a neural network, we track forward passes on the Tape, use this information to determine the gradients, and then use these gradients for optimization using SGD."
   ]
  },
  {
   "cell_type": "markdown",
   "metadata": {
    "id": "iGlWwZq2gWGI"
   },
   "source": [
    "# Part 02: End to End Project"
   ]
  },
  {
   "cell_type": "markdown",
   "metadata": {
    "id": "p3qLcGSsm3Tt"
   },
   "source": [
    "## 2.1 Import libraries"
   ]
  },
  {
   "cell_type": "code",
   "execution_count": 23,
   "metadata": {
    "id": "eOfG9ZAwiscr"
   },
   "outputs": [],
   "source": [
    "import tensorflow as tf\n",
    "import numpy as np\n",
    "import matplotlib.pyplot as plt\n",
    "import h5py\n",
    "import time"
   ]
  },
  {
   "cell_type": "code",
   "execution_count": 24,
   "metadata": {
    "id": "bcei13iOHQxy"
   },
   "outputs": [],
   "source": [
    "def load_dataset():\n",
    "    # load the train data\n",
    "    train_dataset = h5py.File('../Datasets/train_catvnoncat.h5', \"r\")\n",
    "\n",
    "    # your train set features\n",
    "    train_set_x_orig = np.array(train_dataset[\"train_set_x\"][:]) \n",
    "\n",
    "    # your train set labels\n",
    "    train_set_y_orig = np.array(train_dataset[\"train_set_y\"][:]) \n",
    "\n",
    "    \n",
    "    # load the test data\n",
    "    test_dataset = h5py.File('../Datasets/test_catvnoncat.h5', \"r\")\n",
    "\n",
    "    # your test set features\n",
    "    test_set_x_orig = np.array(test_dataset[\"test_set_x\"][:]) \n",
    "\n",
    "    # your test set labels  \n",
    "    test_set_y_orig = np.array(test_dataset[\"test_set_y\"][:]) \n",
    "\n",
    "    # the list of classes\n",
    "    classes = np.array(test_dataset[\"list_classes\"][:]) \n",
    "\n",
    "    # reshape the test data\n",
    "    train_set_y_orig = train_set_y_orig.reshape((train_set_y_orig.shape[0],1))\n",
    "    test_set_y_orig = test_set_y_orig.reshape((test_set_y_orig.shape[0],1))\n",
    "\n",
    "    return train_set_x_orig, train_set_y_orig, test_set_x_orig, test_set_y_orig, classes"
   ]
  },
  {
   "cell_type": "markdown",
   "metadata": {
    "id": "Z5cB1mvRHAiX"
   },
   "source": [
    "## 2.2 Utils functions"
   ]
  },
  {
   "cell_type": "markdown",
   "metadata": {
    "id": "exIeT2zMHhxa"
   },
   "source": [
    "## 2.3 Load Dataset"
   ]
  },
  {
   "cell_type": "code",
   "execution_count": 25,
   "metadata": {
    "id": "mjQYsrdPHSyh"
   },
   "outputs": [],
   "source": [
    "# Loading the data (cat/non-cat)\n",
    "train_set_x_orig, train_set_y, test_set_x_orig, test_set_y, classes = load_dataset()"
   ]
  },
  {
   "cell_type": "code",
   "execution_count": 26,
   "metadata": {
    "id": "6ihL83MbHlhc"
   },
   "outputs": [],
   "source": [
    "# Reshape the training and test examples\n",
    "train_set_x_flatten = train_set_x_orig.reshape(train_set_x_orig.shape[0],-1)\n",
    "test_set_x_flatten = test_set_x_orig.reshape(test_set_x_orig.shape[0],-1)\n",
    "\n",
    "# Standardize the dataset\n",
    "train_set_x = train_set_x_flatten/255\n",
    "test_set_x = test_set_x_flatten/255"
   ]
  },
  {
   "cell_type": "code",
   "execution_count": 27,
   "metadata": {
    "colab": {
     "base_uri": "https://localhost:8080/"
    },
    "executionInfo": {
     "elapsed": 761,
     "status": "ok",
     "timestamp": 1613059966730,
     "user": {
      "displayName": "Ivanovitch Silva",
      "photoUrl": "https://lh3.googleusercontent.com/a-/AOh14Git9r91cROvzBPiAlvwQtPMEFxLz44uDidMPM-PrQ=s64",
      "userId": "06428777505436195303"
     },
     "user_tz": 180
    },
    "id": "sQn-Brt-IhK_",
    "outputId": "c0c16306-690c-4df2-c737-fc37f9a91562"
   },
   "outputs": [
    {
     "name": "stdout",
     "output_type": "stream",
     "text": [
      "train_set_x shape: (209, 12288)\n",
      "train_set_y shape: (209, 1)\n",
      "test_set_x  shape: (50, 12288)\n",
      "test_set_y  shape: (50, 1)\n"
     ]
    }
   ],
   "source": [
    "print (\"train_set_x shape: \" + str(train_set_x.shape))\n",
    "print (\"train_set_y shape: \" + str(train_set_y.shape))\n",
    "print (\"test_set_x  shape: \" + str(test_set_x.shape))\n",
    "print (\"test_set_y  shape: \" + str(test_set_y.shape))"
   ]
  },
  {
   "cell_type": "code",
   "execution_count": 28,
   "metadata": {
    "colab": {
     "base_uri": "https://localhost:8080/",
     "height": 285
    },
    "executionInfo": {
     "elapsed": 882,
     "status": "ok",
     "timestamp": 1613059972121,
     "user": {
      "displayName": "Ivanovitch Silva",
      "photoUrl": "https://lh3.googleusercontent.com/a-/AOh14Git9r91cROvzBPiAlvwQtPMEFxLz44uDidMPM-PrQ=s64",
      "userId": "06428777505436195303"
     },
     "user_tz": 180
    },
    "id": "Xa9dcSRx1__x",
    "outputId": "44e44146-6d98-4a80-f9b2-c47cc68211fc"
   },
   "outputs": [
    {
     "data": {
      "text/plain": [
       "<matplotlib.image.AxesImage at 0x7f3fc56cefd0>"
      ]
     },
     "execution_count": 28,
     "metadata": {},
     "output_type": "execute_result"
    },
    {
     "data": {
      "image/png": "[encoded data removed]",
      "text/plain": [
       "<Figure size 432x288 with 1 Axes>"
      ]
     },
     "metadata": {
      "needs_background": "light"
     },
     "output_type": "display_data"
    }
   ],
   "source": [
    "# visualize a sample data\n",
    "index = 13\n",
    "plt.imshow(train_set_x_orig[index])"
   ]
  },
  {
   "cell_type": "markdown",
   "metadata": {
    "id": "5zLrb3ORIlo_"
   },
   "source": [
    "## 2.4 Model"
   ]
  },
  {
   "cell_type": "code",
   "execution_count": 148,
   "metadata": {
    "id": "SyfcUdH36lGG"
   },
   "outputs": [],
   "source": [
    "# Create a source dataset from your training data\n",
    "dataset = tf.data.Dataset.from_tensor_slices((train_set_x,train_set_y))\n",
    "dataset = dataset.shuffle(buffer_size=64).batch(32)\n",
    "\n",
    "# Instantiate a simple classification model\n",
    "model = tf.keras.Sequential([\n",
    "  tf.keras.layers.Dense(8, activation=tf.nn.relu, dtype='float64'),\n",
    "  tf.keras.layers.Dense(8, activation=tf.nn.relu, dtype='float64'),\n",
    "  tf.keras.layers.Dense(1, activation=tf.nn.sigmoid, dtype='float64')\n",
    "])\n",
    "\n",
    "# Instantiate a logistic loss function that expects integer targets.\n",
    "loss = tf.keras.losses.BinaryCrossentropy()\n",
    "\n",
    "# Instantiate an accuracy metric.\n",
    "accuracy = tf.keras.metrics.BinaryAccuracy()\n",
    "\n",
    "# Instantiate an optimizer.\n",
    "optimizer = tf.keras.optimizers.SGD(learning_rate=0.001)"
   ]
  },
  {
   "cell_type": "code",
   "execution_count": 91,
   "metadata": {
    "colab": {
     "base_uri": "https://localhost:8080/"
    },
    "executionInfo": {
     "elapsed": 42800,
     "status": "ok",
     "timestamp": 1613060024925,
     "user": {
      "displayName": "Ivanovitch Silva",
      "photoUrl": "https://lh3.googleusercontent.com/a-/AOh14Git9r91cROvzBPiAlvwQtPMEFxLz44uDidMPM-PrQ=s64",
      "userId": "06428777505436195303"
     },
     "user_tz": 180
    },
    "id": "7AcfkhQcEUyO",
    "outputId": "a152193b-2325-4f2a-d906-d638e0929528"
   },
   "outputs": [
    {
     "name": "stdout",
     "output_type": "stream",
     "text": [
      "epoch: 0\n",
      "Loss from last step: 0.704\n",
      "Total running accuracy so far: 0.435\n",
      "epoch: 100\n",
      "Loss from last step: 0.574\n",
      "Total running accuracy so far: 0.671\n",
      "epoch: 200\n",
      "Loss from last step: 0.387\n",
      "Total running accuracy so far: 0.717\n",
      "epoch: 300\n",
      "Loss from last step: 0.420\n",
      "Total running accuracy so far: 0.762\n",
      "epoch: 400\n",
      "Loss from last step: 0.234\n",
      "Total running accuracy so far: 0.802\n"
     ]
    }
   ],
   "source": [
    "for i in range(500):    \n",
    "    # Iterate over the batches of the dataset.\n",
    "    for step, (x, y) in enumerate(dataset):\n",
    "      # Open a GradientTape.\n",
    "      with tf.GradientTape() as tape:\n",
    "\n",
    "        # Forward pass.\n",
    "        logits = model(x)\n",
    "\n",
    "        # Loss value for this batch.\n",
    "        loss_value = loss(y, logits)\n",
    "          \n",
    "      # Get gradients of loss wrt the weights.\n",
    "      gradients = tape.gradient(loss_value, model.trainable_weights)\n",
    "\n",
    "      # Update the weights of our linear layer.\n",
    "      optimizer.apply_gradients(zip(gradients, model.trainable_weights))\n",
    "\n",
    "      # Update the running accuracy.\n",
    "      accuracy.update_state(y, logits)\n",
    "\n",
    "    # Logging.\n",
    "    if i % 100 == 0:\n",
    "      print('epoch:', i)\n",
    "      print('Loss from last step: %.3f' % loss_value)\n",
    "      print('Total running accuracy so far: %.3f' % accuracy.result())"
   ]
  },
  {
   "cell_type": "code",
   "execution_count": 31,
   "metadata": {
    "colab": {
     "base_uri": "https://localhost:8080/"
    },
    "executionInfo": {
     "elapsed": 727,
     "status": "ok",
     "timestamp": 1613060027959,
     "user": {
      "displayName": "Ivanovitch Silva",
      "photoUrl": "https://lh3.googleusercontent.com/a-/AOh14Git9r91cROvzBPiAlvwQtPMEFxLz44uDidMPM-PrQ=s64",
      "userId": "06428777505436195303"
     },
     "user_tz": 180
    },
    "id": "7kwyPU_gyIv_",
    "outputId": "a97c9a7d-2cb4-4565-cb45-5973542b8cc1"
   },
   "outputs": [
    {
     "name": "stdout",
     "output_type": "stream",
     "text": [
      "Final test accuracy: 0.740\n"
     ]
    }
   ],
   "source": [
    "# Create a source dataset from your test data\n",
    "test_dataset = tf.data.Dataset.from_tensor_slices((test_set_x, test_set_y))\n",
    "test_dataset = test_dataset.batch(32)\n",
    "\n",
    "# This clears the internal state of the metric\n",
    "accuracy.reset_states()  \n",
    "\n",
    "for step, (x, y) in enumerate(test_dataset):\n",
    "  logits = model(x)\n",
    "  accuracy.update_state(y, logits)\n",
    "\n",
    "print('Final test accuracy: %.3f' % accuracy.result())"
   ]
  },
  {
   "cell_type": "markdown",
   "metadata": {
    "id": "XDVrQIwVNYJ1"
   },
   "source": [
    "## 2.5 Exercise"
   ]
  },
  {
   "cell_type": "markdown",
   "metadata": {
    "id": "UWv4F2tSijbV"
   },
   "source": [
    "This exercise consists of the experimentation regarding the Cat vs Non-Cat model previously presented.\n",
    "\n",
    "1. Evaluate the performance of the model (train and test) considering a different range of layers (1, 3, and 4) and units dimensions (16,32,64)\n",
    "2. Experiment with other optimizers and evaluate different learning rate values (0.001, 0.01, 0.1, 1). What happens?\n",
    "3. Has the size of mini-batch a huge influence under results? Make some experiments to support your findings. \n",
    "4. Consider this [reference](https://www.deeplearning.ai/ai-notes/optimization/) and investigate different evaluation scenarios under the hyperparameter search. "
   ]
  },
  {
   "cell_type": "code",
   "execution_count": 145,
   "metadata": {
    "id": "Ppz6E-jNlxur"
   },
   "outputs": [],
   "source": [
    "def fit_NN(n_layers=3, units=[8, 8, 1], optimizer=tf.keras.optimizers.SGD, l_rate=0.001, m_batch=32):\n",
    "    dataset = tf.data.Dataset.from_tensor_slices((train_set_x,train_set_y))\n",
    "    dataset = dataset.shuffle(buffer_size=m_batch*2).batch(m_batch)\n",
    "    \n",
    "    layers = []\n",
    "    for i in range(n_layers):\n",
    "        layers += [\n",
    "            tf.keras.layers.Dense(\n",
    "                units[i], activation=tf.nn.sigmoid if units[i] == 1 else tf.nn.relu, dtype='float64'\n",
    "            )\n",
    "        ]\n",
    "\n",
    "    model = tf.keras.Sequential(layers)\n",
    "\n",
    "    loss = tf.keras.losses.BinaryCrossentropy()\n",
    "    accuracy = tf.keras.metrics.BinaryAccuracy()\n",
    "\n",
    "    # Instantiate an optimizer.\n",
    "    optimizer = optimizer(learning_rate=l_rate)\n",
    "    \n",
    "    acc_results = []\n",
    "    for i in range(500):\n",
    "        for step, (x, y) in enumerate(dataset):\n",
    "            with tf.GradientTape() as tape:\n",
    "                y_pred = model(x)\n",
    "                loss_value = loss(y, y_pred)\n",
    "\n",
    "            gradients = tape.gradient(loss_value, model.trainable_weights)\n",
    "\n",
    "            optimizer.apply_gradients(zip(gradients, model.trainable_weights))\n",
    "\n",
    "            accuracy.update_state(y, y_pred)\n",
    "            \n",
    "        acc_results.append(float(accuracy.result()))\n",
    "\n",
    "    return [model, acc_results]"
   ]
  },
  {
   "cell_type": "code",
   "execution_count": 79,
   "metadata": {},
   "outputs": [],
   "source": [
    "def test_NN(model=model):\n",
    "    test_dataset = tf.data.Dataset.from_tensor_slices((test_set_x, test_set_y))\n",
    "    test_dataset = test_dataset.batch(32)\n",
    "\n",
    "    accuracy = tf.keras.metrics.BinaryAccuracy()\n",
    "\n",
    "    for step, (x, y) in enumerate(test_dataset):\n",
    "        y_pred_test = model(x)\n",
    "        accuracy.update_state(y, y_pred_test)\n",
    "\n",
    "    print('-- Final test accuracy: %.3f' % accuracy.result())"
   ]
  },
  {
   "cell_type": "markdown",
   "metadata": {},
   "source": [
    "**Answer 01: range of layers and units dimension**"
   ]
  },
  {
   "cell_type": "code",
   "execution_count": 112,
   "metadata": {},
   "outputs": [
    {
     "name": "stdout",
     "output_type": "stream",
     "text": [
      "\n",
      "LAYERS: 1; \n",
      "-- Final test accuracy: 0.740\n",
      "\n",
      "LAYERS: 3; \n",
      "NEURONS: 16; \n",
      "-- Final test accuracy: 0.720\n",
      "NEURONS: 32; \n",
      "-- Final test accuracy: 0.780\n",
      "NEURONS: 64; \n",
      "-- Final test accuracy: 0.780\n",
      "\n",
      "LAYERS: 4; \n",
      "NEURONS: 16; \n",
      "-- Final test accuracy: 0.720\n",
      "NEURONS: 32; \n",
      "-- Final test accuracy: 0.760\n",
      "NEURONS: 64; \n",
      "-- Final test accuracy: 0.720\n"
     ]
    },
    {
     "data": {
      "image/png": "[encoded data removed]",
      "text/plain": [
       "<Figure size 720x288 with 3 Axes>"
      ]
     },
     "metadata": {
      "needs_background": "light"
     },
     "output_type": "display_data"
    }
   ],
   "source": [
    "# 1\n",
    "import matplotlib.pyplot as plt\n",
    "\n",
    "fig, axs = plt.subplots(1, 3, figsize=(10, 4), sharey=True)\n",
    "\n",
    "tf.random.set_seed(2)\n",
    "layers = [1, 3, 4]\n",
    "u_dim = [16, 32, 64]\n",
    "acc = []\n",
    "\n",
    "for i, num_layers in enumerate(layers):\n",
    "    print('\\nLAYERS: %d; ' % num_layers)\n",
    "    if num_layers == 1:\n",
    "        [model, acc] = fit_NN(n_layers=num_layers, units=[1])\n",
    "        test_NN(model=model)\n",
    "        axs[i].plot(acc, label='1 unit')\n",
    "    else:\n",
    "        for j, neurons in enumerate(u_dim):\n",
    "            print('NEURONS: %d; ' % neurons)\n",
    "            u = [neurons] * num_layers\n",
    "            u[num_layers - 1] = 1\n",
    "            [model, acc] = fit_NN(n_layers=num_layers, units=u)\n",
    "            test_NN(model=model)\n",
    "            axs[i].plot(acc, label=str(neurons) + ' units')\n",
    "    axs[i].set_title('NN with %d layer(s)' % num_layers)\n",
    "    axs[i].set_ylabel('Accuracy')\n",
    "    axs[i].legend()\n",
    "fig.suptitle('TRAINING ACCURACIES')\n",
    "plt.tight_layout()"
   ]
  },
  {
   "cell_type": "markdown",
   "metadata": {},
   "source": [
    "**Answer 02: optimizers and learning rates**"
   ]
  },
  {
   "cell_type": "code",
   "execution_count": 119,
   "metadata": {},
   "outputs": [
    {
     "name": "stdout",
     "output_type": "stream",
     "text": [
      "\n",
      "OPTIMIZER: SGD; \n",
      "LEARNING RATE: 0.001; \n",
      "-- Final test accuracy: 0.740\n",
      "LEARNING RATE: 0.010; \n",
      "-- Final test accuracy: 0.620\n",
      "LEARNING RATE: 0.100; \n",
      "-- Final test accuracy: 0.340\n",
      "LEARNING RATE: 1.000; \n",
      "-- Final test accuracy: 0.340\n",
      "\n",
      "OPTIMIZER: Adam; \n",
      "LEARNING RATE: 0.001; \n",
      "-- Final test accuracy: 0.600\n",
      "LEARNING RATE: 0.010; \n",
      "-- Final test accuracy: 0.720\n",
      "LEARNING RATE: 0.100; \n",
      "-- Final test accuracy: 0.340\n",
      "LEARNING RATE: 1.000; \n",
      "-- Final test accuracy: 0.340\n",
      "\n",
      "OPTIMIZER: RMSprop; \n",
      "LEARNING RATE: 0.001; \n",
      "-- Final test accuracy: 0.660\n",
      "LEARNING RATE: 0.010; \n",
      "-- Final test accuracy: 0.340\n",
      "LEARNING RATE: 0.100; \n",
      "-- Final test accuracy: 0.340\n",
      "LEARNING RATE: 1.000; \n",
      "-- Final test accuracy: 0.340\n"
     ]
    },
    {
     "data": {
      "image/png": "[encoded data removed]",
      "text/plain": [
       "<Figure size 720x288 with 3 Axes>"
      ]
     },
     "metadata": {
      "needs_background": "light"
     },
     "output_type": "display_data"
    }
   ],
   "source": [
    "# 2\n",
    "fig, axs = plt.subplots(1, 3, figsize=(10, 4), sharey=True)\n",
    "\n",
    "tf.random.set_seed(3)\n",
    "optimizers = [tf.keras.optimizers.SGD, tf.keras.optimizers.Adam, tf.keras.optimizers.RMSprop]\n",
    "l_rates = [0.001, 0.01, 0.1, 1]\n",
    "\n",
    "for i, opt in enumerate(optimizers):\n",
    "    print('\\nOPTIMIZER: %s; ' % opt.__name__)\n",
    "    for l_rate in l_rates:\n",
    "        print('LEARNING RATE: %.3f; ' % l_rate)\n",
    "        [model, acc] = fit_NN(optimizer=opt, l_rate=l_rate)\n",
    "        test_NN(model=model)\n",
    "        axs[i].plot(acc, label='l_rate = %s' % str(l_rate))\n",
    "    axs[i].set_title('NN %s' % opt.__name__)\n",
    "    axs[i].set_ylabel('Accuracy')\n",
    "    axs[i].legend()\n",
    "fig.suptitle('TRAINING ACCURACIES')\n",
    "plt.tight_layout()"
   ]
  },
  {
   "cell_type": "markdown",
   "metadata": {},
   "source": [
    "**Answer 03: size of mini-batches**"
   ]
  },
  {
   "cell_type": "code",
   "execution_count": 153,
   "metadata": {},
   "outputs": [
    {
     "name": "stdout",
     "output_type": "stream",
     "text": [
      "\n",
      "MINI-BATCH SIZE: 1; \n",
      "-- Final test accuracy: 0.680\n",
      "\n",
      "MINI-BATCH SIZE: 16; \n",
      "-- Final test accuracy: 0.720\n",
      "\n",
      "MINI-BATCH SIZE: 32; \n",
      "-- Final test accuracy: 0.800\n",
      "\n",
      "MINI-BATCH SIZE: 64; \n",
      "-- Final test accuracy: 0.420\n",
      "\n",
      "MINI-BATCH SIZE: 128; \n",
      "-- Final test accuracy: 0.540\n"
     ]
    },
    {
     "data": {
      "image/png": "[encoded data removed]",
      "text/plain": [
       "<Figure size 432x288 with 1 Axes>"
      ]
     },
     "metadata": {
      "needs_background": "light"
     },
     "output_type": "display_data"
    }
   ],
   "source": [
    "# 3\n",
    "tf.random.set_seed(3)\n",
    "m_batches = [1, 16, 32, 64, 128]\n",
    "\n",
    "for i, batch in enumerate(m_batches):\n",
    "    print('\\nMINI-BATCH SIZE: %s; ' % batch)\n",
    "    [model, acc] = fit_NN(m_batch=batch)\n",
    "    test_NN(model=model)\n",
    "    plt.plot(acc, label='mini-batch = %d' % batch)\n",
    "    plt.title('NN with different sizes of MB')\n",
    "    plt.ylabel('Accuracy')\n",
    "    plt.legend()\n",
    "fig.suptitle('TRAINING ACCURACIES')\n",
    "plt.tight_layout()"
   ]
  },
  {
   "cell_type": "markdown",
   "metadata": {
    "id": "f_a4o4tgnJmf"
   },
   "source": [
    "# References"
   ]
  },
  {
   "cell_type": "markdown",
   "metadata": {
    "id": "KjFJcaOunKsV"
   },
   "source": [
    "- [Aurelien Geron, Hands–On Machine Learning with Scikit–Learn and TensorFlow 2e: Concepts, Tools, and Techniques to Build Intelligent Systems. 2019](https://www.oreilly.com/library/view/hands-on-machine-learning/9781492032632/)\n",
    "- [Alexander Amini and Ava Soleimany\n",
    "MIT 6.S191: Introduction to Deep Learning. 2021](http://IntroToDeepLearning.com)\n",
    "\n"
   ]
  }
 ],
 "metadata": {
  "accelerator": "GPU",
  "colab": {
   "authorship_tag": "ABX9TyOw6edTKh2I2iWKgcfzhLVg",
   "collapsed_sections": [],
   "name": "Lesson 02 Task 02 - Introduction to TF.ipynb",
   "provenance": [],
   "toc_visible": true
  },
  "kernelspec": {
   "display_name": "Python 3",
   "language": "python",
   "name": "python3"
  },
  "language_info": {
   "codemirror_mode": {
    "name": "ipython",
    "version": 3
   },
   "file_extension": ".py",
   "mimetype": "text/x-python",
   "name": "python",
   "nbconvert_exporter": "python",
   "pygments_lexer": "ipython3",
   "version": "3.7.10"
  }
 },
 "nbformat": 4,
 "nbformat_minor": 1
}
